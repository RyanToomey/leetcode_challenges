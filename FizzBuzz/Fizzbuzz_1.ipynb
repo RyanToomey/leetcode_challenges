{
 "cells": [
  {
   "cell_type": "code",
   "execution_count": 1,
   "id": "3e68b6e5-2e89-4825-9402-bd9ff43e4e4d",
   "metadata": {},
   "outputs": [],
   "source": [
    "class Solution:\n",
    "    def fizzBuzz(self, n):\n",
    "        retlist = []\n",
    "        for i in range(1,n+1):\n",
    "            x = (\"Fizz\"*(i%3<1)+\"Buzz\"*(i%5<1) or str(i))\n",
    "            retlist.append(x)\n",
    "        return retlist"
   ]
  },
  {
   "cell_type": "code",
   "execution_count": 2,
   "id": "f271fbe7-ed97-4d53-aba5-3cad55785d7a",
   "metadata": {},
   "outputs": [],
   "source": [
    "s = Solution()"
   ]
  },
  {
   "cell_type": "code",
   "execution_count": null,
   "id": "a1743e2e-896c-4a16-aac6-b523bb60ef8f",
   "metadata": {},
   "outputs": [],
   "source": [
    "s.fi"
   ]
  }
 ],
 "metadata": {
  "kernelspec": {
   "display_name": "Python 3 (ipykernel)",
   "language": "python",
   "name": "python3"
  },
  "language_info": {
   "codemirror_mode": {
    "name": "ipython",
    "version": 3
   },
   "file_extension": ".py",
   "mimetype": "text/x-python",
   "name": "python",
   "nbconvert_exporter": "python",
   "pygments_lexer": "ipython3",
   "version": "3.9.12"
  }
 },
 "nbformat": 4,
 "nbformat_minor": 5
}
