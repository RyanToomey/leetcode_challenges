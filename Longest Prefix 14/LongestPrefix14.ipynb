{
 "cells": [
  {
   "cell_type": "code",
   "execution_count": 2,
   "id": "c92a55a5-70b0-4848-bca4-453452219db7",
   "metadata": {},
   "outputs": [],
   "source": [
    "class Solution:\n",
    "    def longestCommonPrefix(self, strs):\n",
    "        res = \"\"\n",
    "        \n",
    "        for i in range(len(strs[0])):\n",
    "            for s in strs:\n",
    "                if i == len(s) or s[i]!=strs[0][i]:\n",
    "                    return res\n",
    "            res += strs[0][i]\n",
    "        return res"
   ]
  },
  {
   "cell_type": "code",
   "execution_count": 3,
   "id": "14a874c5-bf15-4b5a-972c-5092d723f2a3",
   "metadata": {},
   "outputs": [],
   "source": [
    "s = Solution()"
   ]
  },
  {
   "cell_type": "code",
   "execution_count": 5,
   "id": "ed81d465-6fd8-47e7-af13-4aabbf58a204",
   "metadata": {},
   "outputs": [
    {
     "data": {
      "text/plain": [
       "'rac'"
      ]
     },
     "execution_count": 5,
     "metadata": {},
     "output_type": "execute_result"
    }
   ],
   "source": [
    "# We will input a sample list of 3 strings\n",
    "s.longestCommonPrefix(['racecar', 'race', 'rack'])"
   ]
  },
  {
   "cell_type": "code",
   "execution_count": null,
   "id": "f8c7465b-ff5d-4c24-afcf-aa85bceada3b",
   "metadata": {},
   "outputs": [],
   "source": []
  }
 ],
 "metadata": {
  "kernelspec": {
   "display_name": "Python 3 (ipykernel)",
   "language": "python",
   "name": "python3"
  },
  "language_info": {
   "codemirror_mode": {
    "name": "ipython",
    "version": 3
   },
   "file_extension": ".py",
   "mimetype": "text/x-python",
   "name": "python",
   "nbconvert_exporter": "python",
   "pygments_lexer": "ipython3",
   "version": "3.9.12"
  }
 },
 "nbformat": 4,
 "nbformat_minor": 5
}
